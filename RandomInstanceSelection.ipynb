{
 "cells": [
  {
   "cell_type": "markdown",
   "id": "aae97d9d",
   "metadata": {},
   "source": [
    "# Create New Representative datasets using RandomSelection Method"
   ]
  },
  {
   "cell_type": "code",
   "execution_count": 38,
   "id": "7799498a",
   "metadata": {},
   "outputs": [],
   "source": [
    "from random import sample\n",
    "from random import shuffle\n",
    "import numpy as np\n",
    "import pandas as pd\n",
    "import os"
   ]
  },
  {
   "cell_type": "code",
   "execution_count": 14,
   "id": "453bc3ad",
   "metadata": {},
   "outputs": [],
   "source": [
    "import Datasets"
   ]
  },
  {
   "cell_type": "code",
   "execution_count": 32,
   "id": "61321ff6",
   "metadata": {},
   "outputs": [],
   "source": [
    "class RandomSelection:\n",
    "    def __init__(self, dataset, dataset_name, sampling_size=25):\n",
    "        self.x_train = dataset.x_train\n",
    "        self.y_train = dataset.y_train\n",
    "        \n",
    "        data_t = np.append(self.x_train, self.y_train, axis=1)\n",
    "        \n",
    "        self.data_train = sample(list(data_t), sampling_size)\n",
    "        self.data_train = np.asarray(self.data_train)\n",
    "        self.y_train = self.data_train[:, -1]\n",
    "        self.x_train = np.delete(self.data_train, -1, axis=1)"
   ]
  },
  {
   "cell_type": "markdown",
   "id": "3f45d6a4",
   "metadata": {},
   "source": [
    "## Labeling new dataset (representative datas)"
   ]
  },
  {
   "cell_type": "code",
   "execution_count": 11,
   "id": "d79c146a",
   "metadata": {},
   "outputs": [],
   "source": [
    "class NewDatasetHumanLabeling:\n",
    "    def __init__(self, dataset, new_x_train, output_dataset_path):\n",
    "        start = time.time()\n",
    "\n",
    "        new_y_train = self.LabelingNewDataset(dataset, new_x_train)\n",
    "        self.create_new_dataset_csv_file(new_x_train, new_y_train, output_dataset_path)\n",
    "\n",
    "        end = time.time()\n",
    "        self.processing_time = end - start\n",
    "    \n",
    "    def LabelingNewDataset(self, dataset, new_x_train):\n",
    "        new_y_train = []\n",
    "        i = 0\n",
    "        for new_x in new_x_train:\n",
    "            new_y_train.append(dataset.y_train[(dataset.x_train==new_x).all(axis=1).nonzero()[0][0]][0])\n",
    "        return new_y_train\n",
    "\n",
    "    def create_new_dataset_csv_file(self, new_x_train, new_y_train, output_dataset_path):\n",
    "        df = pd.DataFrame(new_x_train)\n",
    "        df[len(df.columns)] = new_y_train\n",
    "        # create a new csv file\n",
    "        df.to_csv(\"test.csv\", index=False)\n",
    "        \n",
    "        # remove first line of csv file which is the header of each coloumn\n",
    "        with open(\"test.csv\",'r') as f:\n",
    "            with open(output_dataset_path,'w') as f1:\n",
    "                next(f) # skip header line\n",
    "                for line in f:\n",
    "                    f1.write(line)\n",
    "        os.remove(\"test.csv\")"
   ]
  },
  {
   "cell_type": "markdown",
   "id": "1db105df",
   "metadata": {},
   "source": [
    "## Saving data test in a new csv file individualy"
   ]
  },
  {
   "cell_type": "code",
   "execution_count": 12,
   "id": "d013d507",
   "metadata": {},
   "outputs": [],
   "source": [
    "def save_data_test(x_test, y_test, output_dataset_path):\n",
    "    df = pd.DataFrame(x_test)\n",
    "    df[len(df.columns)] = y_test\n",
    "    # create a new csv file\n",
    "    df.to_csv(\"test.csv\", index=False)\n",
    "\n",
    "    # remove first line of csv file which is the header of each coloumn\n",
    "    with open(\"test.csv\",'r') as f:\n",
    "        with open(output_dataset_path,'w') as f1:\n",
    "            next(f) # skip header line\n",
    "            for line in f:\n",
    "                f1.write(line)\n",
    "    os.remove(\"test.csv\")"
   ]
  },
  {
   "cell_type": "markdown",
   "id": "f6c3f181",
   "metadata": {},
   "source": [
    "## Breast-w Random Instance Selection + Human Labeling"
   ]
  },
  {
   "cell_type": "code",
   "execution_count": 33,
   "id": "49fcb560",
   "metadata": {},
   "outputs": [
    {
     "name": "stdout",
     "output_type": "stream",
     "text": [
      "Started reading dataset  Breast-W ...\n",
      "Finished reading dataset  Breast-W ...\n"
     ]
    }
   ],
   "source": [
    "breast_w_dataset = Datasets.Breast_W_Dataset('./Datasets/breast-cancer-wisconsin.data', \"Breast-W\", \n",
    "                                    train_size=0.1, normalization_method='None')"
   ]
  },
  {
   "cell_type": "code",
   "execution_count": 34,
   "id": "87e8616a",
   "metadata": {},
   "outputs": [
    {
     "name": "stdout",
     "output_type": "stream",
     "text": [
      "x_train shape:  (19, 10)\n"
     ]
    }
   ],
   "source": [
    "random_selection = RandomSelection(breast_w_dataset, \"Breast-W\", sampling_size=19)\n",
    "print(\"x_train shape: \", random_selection.x_train.shape)"
   ]
  },
  {
   "cell_type": "code",
   "execution_count": 39,
   "id": "91dbfdec",
   "metadata": {},
   "outputs": [],
   "source": [
    "save_data_test(random_selection.x_train, random_selection.y_train, \"./NewRandomSelectionDatasets/new_breast_w_train.data\")\n",
    "save_data_test(breast_w_dataset.x_test, breast_w_dataset.y_test, \"./NewRandomSelectionDatasets/new_breast_w_test.data\")"
   ]
  },
  {
   "cell_type": "markdown",
   "id": "280c3a1c",
   "metadata": {},
   "source": [
    "## Messidor Random Instance Selection + Human Labeling"
   ]
  },
  {
   "cell_type": "code",
   "execution_count": 40,
   "id": "5a29e111",
   "metadata": {},
   "outputs": [
    {
     "name": "stdout",
     "output_type": "stream",
     "text": [
      "Started reading dataset  Messidor ...\n",
      "Finished reading dataset  Messidor ...\n"
     ]
    }
   ],
   "source": [
    "messidor = Datasets.Messidor_Dataset('./Datasets/messidor_features.arff', \"Messidor\", \n",
    "                                     train_size=0.1, normalization_method='None', \n",
    "                                     is_class_label_a_feature=False)"
   ]
  },
  {
   "cell_type": "code",
   "execution_count": 41,
   "id": "8ce5cb63",
   "metadata": {},
   "outputs": [
    {
     "name": "stdout",
     "output_type": "stream",
     "text": [
      "x_train shape:  (36, 19)\n"
     ]
    }
   ],
   "source": [
    "random_selection = RandomSelection(messidor, \"Messidor\", sampling_size=36)\n",
    "print(\"x_train shape: \", random_selection.x_train.shape)"
   ]
  },
  {
   "cell_type": "code",
   "execution_count": 42,
   "id": "7e2dfe36",
   "metadata": {},
   "outputs": [],
   "source": [
    "save_data_test(random_selection.x_train, random_selection.y_train, \"./NewRandomSelectionDatasets/new_messidor_train.data\")\n",
    "save_data_test(messidor.x_test, messidor.y_test, \"./NewRandomSelectionDatasets/new_messidor_test.data\")"
   ]
  },
  {
   "cell_type": "markdown",
   "id": "3075b29c",
   "metadata": {},
   "source": [
    "## Car Random Instance Selection + Human Labeling"
   ]
  },
  {
   "cell_type": "code",
   "execution_count": 43,
   "id": "f117cc2a",
   "metadata": {},
   "outputs": [
    {
     "name": "stdout",
     "output_type": "stream",
     "text": [
      "Started reading dataset  Car ...\n",
      "Finished reading dataset  Car ...\n"
     ]
    }
   ],
   "source": [
    "car_dataset = Datasets.Car_Dataset('./Datasets/car.data', \"Car\", 'Class', \n",
    "                                   train_size=0.1)"
   ]
  },
  {
   "cell_type": "code",
   "execution_count": 44,
   "id": "58fe1cd8",
   "metadata": {},
   "outputs": [
    {
     "name": "stdout",
     "output_type": "stream",
     "text": [
      "x_train shape:  (56, 6)\n"
     ]
    }
   ],
   "source": [
    "random_selection = RandomSelection(car_dataset, \"Car\", sampling_size=56)\n",
    "print(\"x_train shape: \", random_selection.x_train.shape)"
   ]
  },
  {
   "cell_type": "code",
   "execution_count": 45,
   "id": "2742f136",
   "metadata": {},
   "outputs": [],
   "source": [
    "save_data_test(random_selection.x_train, random_selection.y_train, \"./NewRandomSelectionDatasets/new_car_train.data\")\n",
    "save_data_test(car_dataset.x_test, car_dataset.y_test, \"./NewRandomSelectionDatasets/new_car_test.data\")"
   ]
  },
  {
   "cell_type": "markdown",
   "id": "272ca1ce",
   "metadata": {},
   "source": [
    "## Spambase Random Instance Selection + Human Labeling"
   ]
  },
  {
   "cell_type": "code",
   "execution_count": 47,
   "id": "1e57c66b",
   "metadata": {},
   "outputs": [
    {
     "name": "stdout",
     "output_type": "stream",
     "text": [
      "Started reading dataset  Spambase ...\n",
      "Finished reading dataset  Spambase ...\n"
     ]
    }
   ],
   "source": [
    "spambase_dataset = Datasets.Spambase_Dataset('./Datasets/spambase.data', \"Spambase\", \n",
    "                                    train_size=0.1, normalization_method='None')\n"
   ]
  },
  {
   "cell_type": "code",
   "execution_count": 48,
   "id": "823f28dc",
   "metadata": {},
   "outputs": [
    {
     "name": "stdout",
     "output_type": "stream",
     "text": [
      "x_train shape:  (26, 57)\n"
     ]
    }
   ],
   "source": [
    "random_selection = RandomSelection(spambase_dataset, \"Spambase\", sampling_size=26)\n",
    "print(\"x_train shape: \", random_selection.x_train.shape)"
   ]
  },
  {
   "cell_type": "code",
   "execution_count": 49,
   "id": "f57aaba5",
   "metadata": {},
   "outputs": [],
   "source": [
    "save_data_test(random_selection.x_train, random_selection.y_train, \"./NewRandomSelectionDatasets/new_Spambase_train.data\")\n",
    "save_data_test(spambase_dataset.x_test, spambase_dataset.y_test, \"./NewRandomSelectionDatasets/new_Spambase_test.data\")"
   ]
  },
  {
   "cell_type": "markdown",
   "id": "2b93b27d",
   "metadata": {},
   "source": [
    "## Coil2000 Random Instance Selection + Human Labeling"
   ]
  },
  {
   "cell_type": "code",
   "execution_count": 50,
   "id": "acc49881",
   "metadata": {},
   "outputs": [
    {
     "name": "stdout",
     "output_type": "stream",
     "text": [
      "Started reading dataset  Coil2000 ...\n",
      "Finished reading dataset  Coil2000 ...\n"
     ]
    },
    {
     "data": {
      "text/plain": [
       "(196, 85)"
      ]
     },
     "execution_count": 50,
     "metadata": {},
     "output_type": "execute_result"
    }
   ],
   "source": [
    "coil2000_dataset = Datasets.Coil2000_Dataset('./Datasets/coil2000.dat', \"Coil2000\", \n",
    "                            train_size=0.02, normalization_method='None')\n",
    "coil2000_dataset.x_train.shape"
   ]
  },
  {
   "cell_type": "code",
   "execution_count": 52,
   "id": "403c9525",
   "metadata": {},
   "outputs": [
    {
     "name": "stdout",
     "output_type": "stream",
     "text": [
      "x_train shape:  (68, 85)\n"
     ]
    }
   ],
   "source": [
    "random_selection = RandomSelection(coil2000_dataset, \"Coil2000\", sampling_size=68)\n",
    "print(\"x_train shape: \", random_selection.x_train.shape)"
   ]
  },
  {
   "cell_type": "code",
   "execution_count": 53,
   "id": "5c83527b",
   "metadata": {},
   "outputs": [],
   "source": [
    "save_data_test(random_selection.x_train, random_selection.y_train, \"./NewRandomSelectionDatasets/new_coil2000_train.data\")\n",
    "save_data_test(coil2000_dataset.x_test, coil2000_dataset.y_test, \"./NewRandomSelectionDatasets/new_coil2000_test.data\")"
   ]
  },
  {
   "cell_type": "markdown",
   "id": "1723754b",
   "metadata": {},
   "source": [
    "## Bank Marketing Random Instance Selection + Human Labeling"
   ]
  },
  {
   "cell_type": "code",
   "execution_count": 54,
   "id": "07976c5d",
   "metadata": {},
   "outputs": [
    {
     "name": "stdout",
     "output_type": "stream",
     "text": [
      "Started reading dataset  Bank Marketing ...\n",
      "Finished reading dataset  Bank Marketing ...\n"
     ]
    }
   ],
   "source": [
    "bank_dataset = Datasets.Bank_Marketing_Dataset('./Datasets/bank-full.csv', \"Bank Marketing\", 'y', \n",
    "                                      train_size=0.1, normalization_method=\"None\")\n"
   ]
  },
  {
   "cell_type": "code",
   "execution_count": 56,
   "id": "98b4d8c5",
   "metadata": {},
   "outputs": [
    {
     "name": "stdout",
     "output_type": "stream",
     "text": [
      "x_train shape:  (13, 16)\n"
     ]
    }
   ],
   "source": [
    "random_selection = RandomSelection(bank_dataset, \"Bank\", sampling_size=13)\n",
    "print(\"x_train shape: \", random_selection.x_train.shape)"
   ]
  },
  {
   "cell_type": "code",
   "execution_count": 57,
   "id": "dd3f530e",
   "metadata": {},
   "outputs": [],
   "source": [
    "save_data_test(random_selection.x_train, random_selection.y_train, \"./NewRandomSelectionDatasets/new_bank_train.data\")\n",
    "save_data_test(bank_dataset.x_test, bank_dataset.y_test, \"./NewRandomSelectionDatasets/new_bank_test.data\")"
   ]
  },
  {
   "cell_type": "markdown",
   "id": "d60c45f3",
   "metadata": {},
   "source": [
    "## Skin Segmentation Random Instance Selection + Human Labeling"
   ]
  },
  {
   "cell_type": "code",
   "execution_count": 58,
   "id": "65a9837d",
   "metadata": {},
   "outputs": [
    {
     "name": "stdout",
     "output_type": "stream",
     "text": [
      "Started reading dataset  Skin Segmentation ...\n",
      "Finished reading dataset  Skin Segmentation ...\n"
     ]
    }
   ],
   "source": [
    "skin_dataset = Datasets.Skin_NonSkin_Dataset('./Datasets/Skin_NonSkin.txt', \"Skin Segmentation\",\n",
    "                                             train_size=0.0005, normalization_method=\"None\")"
   ]
  },
  {
   "cell_type": "code",
   "execution_count": 60,
   "id": "5296184c",
   "metadata": {},
   "outputs": [
    {
     "name": "stdout",
     "output_type": "stream",
     "text": [
      "x_train shape:  (18, 3)\n"
     ]
    }
   ],
   "source": [
    "random_selection = RandomSelection(skin_dataset, \"Skin\", sampling_size=18)\n",
    "print(\"x_train shape: \", random_selection.x_train.shape)"
   ]
  },
  {
   "cell_type": "code",
   "execution_count": 61,
   "id": "92be202d",
   "metadata": {},
   "outputs": [],
   "source": [
    "save_data_test(random_selection.x_train, random_selection.y_train, \"./NewRandomSelectionDatasets/new_skin_train.data\")\n",
    "save_data_test(skin_dataset.x_test, skin_dataset.y_test, \"./NewRandomSelectionDatasets/new_skin_test.data\")"
   ]
  },
  {
   "cell_type": "markdown",
   "id": "d26102ea",
   "metadata": {},
   "source": [
    "## Covertype Random Instance Selection + Human Labeling"
   ]
  },
  {
   "cell_type": "code",
   "execution_count": 62,
   "id": "be65d3cc",
   "metadata": {},
   "outputs": [
    {
     "name": "stdout",
     "output_type": "stream",
     "text": [
      "Started reading dataset  Covertype ...\n",
      "Finished reading dataset  Covertype ...\n"
     ]
    }
   ],
   "source": [
    "covertype_dataset = Datasets.Covertype_Dataset('./Datasets/covtype.data', \"Covertype\", \n",
    "                                               train_size=0.02, normalization_method=\"None\")"
   ]
  },
  {
   "cell_type": "code",
   "execution_count": 63,
   "id": "6188b2ea",
   "metadata": {},
   "outputs": [
    {
     "name": "stdout",
     "output_type": "stream",
     "text": [
      "x_train shape:  (50, 54)\n"
     ]
    }
   ],
   "source": [
    "random_selection = RandomSelection(covertype_dataset, \"Covertype\", sampling_size=50)\n",
    "print(\"x_train shape: \", random_selection.x_train.shape)"
   ]
  },
  {
   "cell_type": "code",
   "execution_count": 64,
   "id": "2d2b8147",
   "metadata": {},
   "outputs": [],
   "source": [
    "save_data_test(random_selection.x_train, random_selection.y_train, \"./NewRandomSelectionDatasets/new_covtype_train.data\")\n",
    "save_data_test(covertype_dataset.x_test, covertype_dataset.y_test, \"./NewRandomSelectionDatasets/new_covtype_test.data\")"
   ]
  },
  {
   "cell_type": "code",
   "execution_count": null,
   "id": "7c565eed",
   "metadata": {},
   "outputs": [],
   "source": []
  }
 ],
 "metadata": {
  "kernelspec": {
   "display_name": "Python 3",
   "language": "python",
   "name": "python3"
  },
  "language_info": {
   "codemirror_mode": {
    "name": "ipython",
    "version": 3
   },
   "file_extension": ".py",
   "mimetype": "text/x-python",
   "name": "python",
   "nbconvert_exporter": "python",
   "pygments_lexer": "ipython3",
   "version": "3.8.8"
  }
 },
 "nbformat": 4,
 "nbformat_minor": 5
}
