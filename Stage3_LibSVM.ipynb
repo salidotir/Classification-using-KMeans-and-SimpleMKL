{
 "cells": [
  {
   "cell_type": "markdown",
   "id": "9d86a81f",
   "metadata": {},
   "source": [
    "# Training & Testing selected data using LibSVM"
   ]
  },
  {
   "cell_type": "code",
   "execution_count": 1,
   "id": "bd140318",
   "metadata": {},
   "outputs": [],
   "source": [
    "import time\n",
    "import numpy as np\n",
    "import pandas as pd\n",
    "from sklearn.svm import SVC"
   ]
  },
  {
   "cell_type": "code",
   "execution_count": 2,
   "id": "cc049b3f",
   "metadata": {},
   "outputs": [],
   "source": [
    "import Datasets"
   ]
  },
  {
   "cell_type": "markdown",
   "id": "ef3bfbaf",
   "metadata": {},
   "source": [
    "## defining ReadData class to read datasets created in Newdataset folder after instance selection"
   ]
  },
  {
   "cell_type": "code",
   "execution_count": 3,
   "id": "a8991007",
   "metadata": {},
   "outputs": [],
   "source": [
    "class ReadDataset:\n",
    "    def __init__(self, dataset_name, data_train_path, data_test_path, normalization_method='none'):\n",
    "        self.dataset_name = dataset_name\n",
    "        self.data_train_path = data_train_path\n",
    "        self.data_test_path = data_test_path\n",
    "        self.normalization_method = normalization_method\n",
    "        \n",
    "        self.read_data_train()\n",
    "        self.read_data_test()\n",
    "        \n",
    "    def read_data_train(self):\n",
    "        \"\"\"\n",
    "        self.x_train\n",
    "        self.y_train\n",
    "        \"\"\"\n",
    "        print(\"Started reading data train of dataset \", self.dataset_name, \"...\")\n",
    "\n",
    "        self.data_ = []\n",
    "        with open(self.data_train_path) as data_file_pointer:\n",
    "            for line in data_file_pointer:\n",
    "                tmp = line.split(',')\n",
    "                instance = []\n",
    "                for f in tmp:\n",
    "                    instance.append(float(f))\n",
    "                self.data_.append(instance)\n",
    "        \n",
    "        self.data_ = np.array(self.data_)\n",
    "        np.random.shuffle(self.data_)\n",
    "        \n",
    "        # seperate class labels from data\n",
    "        self.y_train = self.data_[:, -1]          # for last column\n",
    "        self.x_train = self.data_[:, :-1]     # for all but last column\n",
    "        \n",
    "#         self.y_train = self.y_train.reshape(-1, 1)\n",
    "        \n",
    "        # remove self.dataframe to avoid storing data too much\n",
    "#         del self.data_\n",
    "        \n",
    "        # Normalize data\n",
    "#         self.normalize(self.normalization_method)\n",
    "\n",
    "        print(\"Finished reading data train of dataset \", self.dataset_name, \"...\")\n",
    "    \n",
    "\n",
    "    def read_data_test(self):\n",
    "        \"\"\"\n",
    "        self.x_train\n",
    "        self.y_train\n",
    "        \"\"\"\n",
    "        print(\"Started reading data test of dataset \", self.dataset_name, \"...\")\n",
    "\n",
    "        self.data_ = []\n",
    "        with open(self.data_test_path) as data_file_pointer:\n",
    "            for line in data_file_pointer:\n",
    "                tmp = line.split(',')\n",
    "                instance = []\n",
    "                for f in tmp:\n",
    "                    instance.append(float(f))\n",
    "                self.data_.append(instance)\n",
    "        \n",
    "        self.data_ = np.array(self.data_)\n",
    "        np.random.shuffle(self.data_)\n",
    "        \n",
    "        # seperate class labels from data\n",
    "        self.y_test = self.data_[:, -1]          # for last column\n",
    "        self.x_test = self.data_[:, :-1]     # for all but last column\n",
    "        \n",
    "#         self.y_test = self.y_test.reshape(-1, 1)\n",
    "        \n",
    "        # remove self.dataframe to avoid storing data too much\n",
    "#         del self.data_\n",
    "        \n",
    "        # Normalize data\n",
    "#         self.normalize(self.normalization_method)\n",
    "\n",
    "        print(\"Finished reading data test of dataset \", self.dataset_name, \"...\")\n",
    "\n",
    "        \n",
    "    \"\"\"\n",
    "    Normalizing data improves the convergence of learning model and causes that smaller features also be able to affect the model parameters.\n",
    "    \"\"\"\n",
    "    def normalize(self, normalization_method):\n",
    "        if normalization_method == 'none':\n",
    "            print(\"No normalization.\")\n",
    "            return\n",
    "        \n",
    "        if normalization_method == 'zero_mean_unit_var':\n",
    "            print(\"zero-mean & unit_variance normalization.\")\n",
    "            self.x_train_without_x0 = self.zero_mean_unit_variance(self.x_train)\n",
    "            self.x_test_without_x0 = self.zero_mean_unit_variance(self.x_test)\n",
    "            \n",
    "            \n",
    "        if normalization_method == 'scale_0_1':\n",
    "            print(\"scaling to [0, 1] normalization.\")\n",
    "            self.x_train_without_x0 = self.scaling_between_0_1(self.x_train)\n",
    "            self.x_test_without_x0 = self.scaling_between_0_1(self.x_test)\n",
    "     \n",
    "    \n",
    "    def scaling_between_0_1(self, numpy_array):\n",
    "        '''\n",
    "        Scaling\n",
    "        '''\n",
    "        normed_numpy_array = (numpy_array - numpy_array.min(axis=0)) / (numpy_array.max(axis=0) - numpy_array.min(axis=0))\n",
    "        return normed_numpy_array\n",
    "\n",
    "\n",
    "    def zero_mean_unit_variance(self, numpy_array):\n",
    "        '''\n",
    "        Standardization\n",
    "        '''\n",
    "        normed_numpy_array = (numpy_array - numpy_array.mean(axis=0)) / numpy_array.std(axis=0)\n",
    "        return normed_numpy_array\n"
   ]
  },
  {
   "cell_type": "markdown",
   "id": "0d881600",
   "metadata": {},
   "source": [
    "## defining *LibSVM* class training & testing functions"
   ]
  },
  {
   "cell_type": "code",
   "execution_count": 4,
   "id": "668a0f81",
   "metadata": {},
   "outputs": [],
   "source": [
    "class LibSVM_Method:\n",
    "    def __init__(self, C=1, kernel='linear', svm_library='sklearn'):        \n",
    "        self.C = C\n",
    "        self.kernel = kernel\n",
    "        self.svm_library = svm_library\n",
    "\n",
    "    def accuracy(self, y, y_pred):\n",
    "        res = 0\n",
    "        for i in range(0, len(y)):\n",
    "            if y_pred[i] == y[i]:\n",
    "                res += 1\n",
    "        return (res / float(len(y))) * 100\n",
    "\n",
    "    # returns the score|mean accuracy of the svm model\n",
    "    def svm_mean_accuracy(self, data_x, data_y, dataset_name):\n",
    "        start = time.time()\n",
    "        \n",
    "        model_score = self.svm_model.score(data_x, data_y)\n",
    "        \n",
    "        self.prediction_accuracy_processing_time = time.time() - start\n",
    "        print(\"Calculating accuracy of LibSVM on dataset \", dataset_name, \" Finished after \", self.prediction_accuracy_processing_time)\n",
    "        \n",
    "        return model_score*100\n",
    "    \n",
    "    def train(self, x_train, y_train, dataset_name):\n",
    "        print(\"Started training LibSVM on dataset \" + dataset_name + \" ...\")\n",
    "        start = time.time()\n",
    "        self.svm_model = SVC(C=self.C, kernel=self.kernel)\n",
    "        self.svm_model.fit(x_train, y_train)\n",
    "        self.train_processing_time = time.time() - start\n",
    "        print(\"Training LibSVM on dataset \", dataset_name, \" Finished after \", self.train_processing_time)"
   ]
  },
  {
   "cell_type": "code",
   "execution_count": 5,
   "id": "f3c06592",
   "metadata": {},
   "outputs": [],
   "source": [
    "libsvm = LibSVM_Method()"
   ]
  },
  {
   "cell_type": "markdown",
   "id": "34a613b4",
   "metadata": {},
   "source": [
    "# Testing LibSVM with NewDatasets created by instance selection"
   ]
  },
  {
   "cell_type": "markdown",
   "id": "c83c4712",
   "metadata": {},
   "source": [
    "## Breast-W"
   ]
  },
  {
   "cell_type": "code",
   "execution_count": 16,
   "id": "8ef54f78",
   "metadata": {},
   "outputs": [
    {
     "name": "stdout",
     "output_type": "stream",
     "text": [
      "Started reading data train of dataset  Breast-w ...\n",
      "Finished reading data train of dataset  Breast-w ...\n",
      "Started reading data test of dataset  Breast-w ...\n",
      "Finished reading data test of dataset  Breast-w ...\n"
     ]
    }
   ],
   "source": [
    "breast_dataset = ReadDataset('Breast-w', './NewDatasets/new_breast_w_train.data', './NewDatasets/new_breast_w_test.data')\n"
   ]
  },
  {
   "cell_type": "code",
   "execution_count": 9,
   "id": "ab6b2344",
   "metadata": {},
   "outputs": [
    {
     "name": "stdout",
     "output_type": "stream",
     "text": [
      "Started training LibSVM on dataset Breast-w ...\n",
      "Training LibSVM on dataset  Breast-w  Finished after  0.4678378105163574\n",
      "\n",
      "\n",
      "Calculating accuracy of LibSVM on dataset  Breast-w  Finished after  0.001997232437133789\n",
      "Accuracy on data train:  40.0  | processing time:  0.001997232437133789\n",
      "Calculating accuracy of LibSVM on dataset  Breast-w  Finished after  0.0020105838775634766\n",
      "Accuracy on data test:  34.146341463414636  | processing time:  0.0020105838775634766\n"
     ]
    }
   ],
   "source": [
    "libsvm.train(breast_dataset.x_train, breast_dataset.y_train, \"Breast-w\")\n",
    "print(\"\\n\")\n",
    "print(\"Accuracy on data train: \", libsvm.svm_mean_accuracy(breast_dataset.x_train, breast_dataset.y_train, \"Breast-w\"), \n",
    "      \" | processing time: \", libsvm.prediction_accuracy_processing_time)\n",
    "\n",
    "print(\"Accuracy on data test: \", libsvm.svm_mean_accuracy(breast_dataset.x_test, breast_dataset.y_test, \"Breast-w\"), \n",
    "      \" | processing time: \", libsvm.prediction_accuracy_processing_time)"
   ]
  },
  {
   "cell_type": "markdown",
   "id": "ae8a13bd",
   "metadata": {},
   "source": [
    "## Messidor"
   ]
  },
  {
   "cell_type": "code",
   "execution_count": 10,
   "id": "71793472",
   "metadata": {},
   "outputs": [
    {
     "name": "stdout",
     "output_type": "stream",
     "text": [
      "Started reading data train of dataset  Messidor ...\n",
      "Finished reading data train of dataset  Messidor ...\n",
      "Started reading data test of dataset  Messidor ...\n",
      "Finished reading data test of dataset  Messidor ...\n"
     ]
    }
   ],
   "source": [
    "messidor_dataset = ReadDataset('Messidor', './NewDatasets/new_messidor_train.data', './NewDatasets/new_messidor_test.data')\n"
   ]
  },
  {
   "cell_type": "code",
   "execution_count": 11,
   "id": "4e736f55",
   "metadata": {},
   "outputs": [
    {
     "name": "stdout",
     "output_type": "stream",
     "text": [
      "Started training LibSVM on dataset Messidor ...\n",
      "Training LibSVM on dataset  Messidor  Finished after  0.0830233097076416\n",
      "Calculating accuracy of LibSVM on dataset  Messidor  Finished after  0.0010020732879638672\n",
      "Accuracy on data train:  90.69767441860465  | processing time:  0.0010020732879638672\n",
      "Calculating accuracy of LibSVM on dataset  Messidor  Finished after  0.001990795135498047\n",
      "Accuracy on data test:  66.79536679536679  | processing time:  0.001990795135498047\n"
     ]
    }
   ],
   "source": [
    "libsvm.train(messidor_dataset.x_train, messidor_dataset.y_train, \"Messidor\")\n",
    "\n",
    "print(\"Accuracy on data train: \", libsvm.svm_mean_accuracy(messidor_dataset.x_train, messidor_dataset.y_train, \"Messidor\"), \n",
    "      \" | processing time: \", libsvm.prediction_accuracy_processing_time)\n",
    "\n",
    "print(\"Accuracy on data test: \", libsvm.svm_mean_accuracy(messidor_dataset.x_test, messidor_dataset.y_test, \"Messidor\"), \n",
    "      \" | processing time: \", libsvm.prediction_accuracy_processing_time)"
   ]
  },
  {
   "cell_type": "markdown",
   "id": "6a742320",
   "metadata": {},
   "source": [
    "## Car"
   ]
  },
  {
   "cell_type": "code",
   "execution_count": 125,
   "id": "aff5253d",
   "metadata": {},
   "outputs": [
    {
     "name": "stdout",
     "output_type": "stream",
     "text": [
      "Started reading data train of dataset  Car ...\n",
      "Finished reading data train of dataset  Car ...\n",
      "Started reading data test of dataset  Car ...\n",
      "Finished reading data test of dataset  Car ...\n"
     ]
    }
   ],
   "source": [
    "car_dataset = ReadDataset('Car', './NewDatasets/new_car_train.data', './NewDatasets/new_car_test.data')\n"
   ]
  },
  {
   "cell_type": "code",
   "execution_count": 126,
   "id": "04eba872",
   "metadata": {},
   "outputs": [
    {
     "name": "stdout",
     "output_type": "stream",
     "text": [
      "Started training LibSVM on dataset Car ...\n",
      "Training LibSVM on dataset  Car  Finished after  0.013097524642944336\n",
      "Calculating accuracy of LibSVM on dataset  Car  Finished after  0.007983207702636719\n",
      "Accuracy on data train:  81.25  | processing time:  0.007983207702636719\n",
      "Calculating accuracy of LibSVM on dataset  Car  Finished after  0.04876089096069336\n",
      "Accuracy on data test:  74.87146529562982  | processing time:  0.04876089096069336\n"
     ]
    }
   ],
   "source": [
    "libsvm.train(car_dataset.x_train, car_dataset.y_train, \"Car\")\n",
    "\n",
    "print(\"Accuracy on data train: \", libsvm.svm_mean_accuracy(car_dataset.x_train, car_dataset.y_train, \"Car\"), \n",
    "      \" | processing time: \", libsvm.prediction_accuracy_processing_time)\n",
    "\n",
    "print(\"Accuracy on data test: \", libsvm.svm_mean_accuracy(car_dataset.x_test, car_dataset.y_test, \"Car\"), \n",
    "      \" | processing time: \", libsvm.prediction_accuracy_processing_time)"
   ]
  },
  {
   "cell_type": "markdown",
   "id": "9ab0db8c",
   "metadata": {},
   "source": [
    "## Spambase"
   ]
  },
  {
   "cell_type": "code",
   "execution_count": 12,
   "id": "5c79b3f5",
   "metadata": {},
   "outputs": [
    {
     "name": "stdout",
     "output_type": "stream",
     "text": [
      "Started reading data train of dataset  Spambase ...\n",
      "Finished reading data train of dataset  Spambase ...\n",
      "Started reading data test of dataset  Spambase ...\n",
      "Finished reading data test of dataset  Spambase ...\n"
     ]
    }
   ],
   "source": [
    "spambase_dataset = ReadDataset('Spambase', './NewDatasets/new_Spambase_train.data', './NewDatasets/new_Spambase_test.data')\n"
   ]
  },
  {
   "cell_type": "code",
   "execution_count": 13,
   "id": "77678557",
   "metadata": {},
   "outputs": [
    {
     "name": "stdout",
     "output_type": "stream",
     "text": [
      "Started training LibSVM on dataset Spambase ...\n",
      "Training LibSVM on dataset  Spambase  Finished after  0.0020003318786621094\n",
      "Calculating accuracy of LibSVM on dataset  Spambase  Finished after  0.001999378204345703\n",
      "Accuracy on data train:  100.0  | processing time:  0.001999378204345703\n",
      "Calculating accuracy of LibSVM on dataset  Spambase  Finished after  0.00799870491027832\n",
      "Accuracy on data test:  38.145823273780785  | processing time:  0.00799870491027832\n"
     ]
    }
   ],
   "source": [
    "libsvm.train(spambase_dataset.x_train, spambase_dataset.y_train, \"Spambase\")\n",
    "\n",
    "print(\"Accuracy on data train: \", libsvm.svm_mean_accuracy(spambase_dataset.x_train, spambase_dataset.y_train, \"Spambase\"), \n",
    "      \" | processing time: \", libsvm.prediction_accuracy_processing_time)\n",
    "\n",
    "print(\"Accuracy on data test: \", libsvm.svm_mean_accuracy(spambase_dataset.x_test, spambase_dataset.y_test, \"Spambase\"), \n",
    "      \" | processing time: \", libsvm.prediction_accuracy_processing_time)"
   ]
  },
  {
   "cell_type": "markdown",
   "id": "cb79de68",
   "metadata": {},
   "source": [
    "## Coil2000 dataset"
   ]
  },
  {
   "cell_type": "code",
   "execution_count": 14,
   "id": "2f0b6d52",
   "metadata": {},
   "outputs": [
    {
     "name": "stdout",
     "output_type": "stream",
     "text": [
      "Started reading data train of dataset  Breast-w ...\n",
      "Finished reading data train of dataset  Breast-w ...\n",
      "Started reading data test of dataset  Breast-w ...\n",
      "Finished reading data test of dataset  Breast-w ...\n"
     ]
    }
   ],
   "source": [
    "coil2000_dataset = ReadDataset('Breast-w', './NewDatasets/new_coil2000_train.data', './NewDatasets/new_coil2000_test.data')\n"
   ]
  },
  {
   "cell_type": "code",
   "execution_count": 15,
   "id": "785d1f4e",
   "metadata": {},
   "outputs": [
    {
     "name": "stdout",
     "output_type": "stream",
     "text": [
      "Started training LibSVM on dataset Coil2000 ...\n",
      "Training LibSVM on dataset  Coil2000  Finished after  0.0030014514923095703\n",
      "Calculating accuracy of LibSVM on dataset  Coil2000  Finished after  0.0009999275207519531\n",
      "Accuracy on data train:  100.0  | processing time:  0.0009999275207519531\n",
      "Calculating accuracy of LibSVM on dataset  Coil2000  Finished after  0.0279998779296875\n",
      "Accuracy on data test:  57.64595886141699  | processing time:  0.0279998779296875\n"
     ]
    }
   ],
   "source": [
    "libsvm.train(coil2000_dataset.x_train, coil2000_dataset.y_train, \"Coil2000\")\n",
    "\n",
    "print(\"Accuracy on data train: \", libsvm.svm_mean_accuracy(coil2000_dataset.x_train, coil2000_dataset.y_train, \"Coil2000\"), \n",
    "      \" | processing time: \", libsvm.prediction_accuracy_processing_time)\n",
    "\n",
    "print(\"Accuracy on data test: \", libsvm.svm_mean_accuracy(coil2000_dataset.x_test, coil2000_dataset.y_test, \"Coil2000\"), \n",
    "      \" | processing time: \", libsvm.prediction_accuracy_processing_time)"
   ]
  },
  {
   "cell_type": "markdown",
   "id": "312f4b82",
   "metadata": {},
   "source": [
    "## Bank Marketing"
   ]
  },
  {
   "cell_type": "code",
   "execution_count": 132,
   "id": "0e72167d",
   "metadata": {},
   "outputs": [
    {
     "name": "stdout",
     "output_type": "stream",
     "text": [
      "Started reading data train of dataset  Bank ...\n",
      "Finished reading data train of dataset  Bank ...\n",
      "Started reading data test of dataset  Bank ...\n",
      "Finished reading data test of dataset  Bank ...\n"
     ]
    }
   ],
   "source": [
    "bank_dataset = ReadDataset('Bank', './NewDatasets/new_bank_train.data', './NewDatasets/new_bank_test.data')\n"
   ]
  },
  {
   "cell_type": "code",
   "execution_count": 133,
   "id": "bfeb41f1",
   "metadata": {},
   "outputs": [
    {
     "name": "stdout",
     "output_type": "stream",
     "text": [
      "Started training LibSVM on dataset Bank ...\n",
      "Training LibSVM on dataset  Bank  Finished after  1.7501986026763916\n",
      "Calculating accuracy of LibSVM on dataset  Bank  Finished after  0.0029973983764648438\n",
      "Accuracy on data train:  100.0  | processing time:  0.0029973983764648438\n",
      "Calculating accuracy of LibSVM on dataset  Bank  Finished after  0.07204341888427734\n",
      "Accuracy on data test:  74.1140329319243  | processing time:  0.07204341888427734\n"
     ]
    }
   ],
   "source": [
    "libsvm.train(bank_dataset.x_train, bank_dataset.y_train, \"Bank\")\n",
    "\n",
    "print(\"Accuracy on data train: \", libsvm.svm_mean_accuracy(bank_dataset.x_train, bank_dataset.y_train, \"Bank\"), \n",
    "      \" | processing time: \", libsvm.prediction_accuracy_processing_time)\n",
    "\n",
    "print(\"Accuracy on data test: \", libsvm.svm_mean_accuracy(bank_dataset.x_test, bank_dataset.y_test, \"Bank\"), \n",
    "      \" | processing time: \", libsvm.prediction_accuracy_processing_time)"
   ]
  },
  {
   "cell_type": "markdown",
   "id": "4c194f05",
   "metadata": {},
   "source": [
    "## Skin Segmentation"
   ]
  },
  {
   "cell_type": "code",
   "execution_count": 62,
   "id": "2d02ae8b",
   "metadata": {},
   "outputs": [
    {
     "name": "stdout",
     "output_type": "stream",
     "text": [
      "Started reading data train of dataset  Skin ...\n",
      "Finished reading data train of dataset  Skin ...\n",
      "Started reading data test of dataset  Skin ...\n",
      "Finished reading data test of dataset  Skin ...\n"
     ]
    }
   ],
   "source": [
    "skin_dataset = ReadDataset('Skin', './NewDatasets/new_skin_train.data', './NewDatasets/new_skin_test.data')\n"
   ]
  },
  {
   "cell_type": "code",
   "execution_count": 64,
   "id": "9103a4ba",
   "metadata": {},
   "outputs": [
    {
     "name": "stdout",
     "output_type": "stream",
     "text": [
      "Started training LibSVM on dataset Skin ...\n",
      "Training LibSVM on dataset  Skin  Finished after  0.002995729446411133\n",
      "Calculating accuracy of LibSVM on dataset  Skin  Finished after  0.0014698505401611328\n",
      "Accuracy on data train:  100.0  | processing time:  0.0014698505401611328\n",
      "Calculating accuracy of LibSVM on dataset  Skin  Finished after  0.36596083641052246\n",
      "Accuracy on data test:  94.38381611447934  | processing time:  0.36596083641052246\n"
     ]
    }
   ],
   "source": [
    "libsvm.train(skin_dataset.x_train, skin_dataset.y_train, \"Skin\")\n",
    "\n",
    "print(\"Accuracy on data train: \", libsvm.svm_mean_accuracy(skin_dataset.x_train, skin_dataset.y_train, \"Skin\"), \n",
    "      \" | processing time: \", libsvm.prediction_accuracy_processing_time)\n",
    "\n",
    "print(\"Accuracy on data test: \", libsvm.svm_mean_accuracy(skin_dataset.x_test, skin_dataset.y_test, \"Skin\"), \n",
    "      \" | processing time: \", libsvm.prediction_accuracy_processing_time)"
   ]
  },
  {
   "cell_type": "markdown",
   "id": "45684a16",
   "metadata": {},
   "source": [
    "## Covertype"
   ]
  },
  {
   "cell_type": "code",
   "execution_count": 18,
   "id": "cfec39b1",
   "metadata": {},
   "outputs": [
    {
     "name": "stdout",
     "output_type": "stream",
     "text": [
      "Started reading data train of dataset  Covertype ...\n",
      "Finished reading data train of dataset  Covertype ...\n",
      "Started reading data test of dataset  Covertype ...\n",
      "Finished reading data test of dataset  Covertype ...\n"
     ]
    }
   ],
   "source": [
    "covertype_dataset = ReadDataset('Covertype', './NewDatasets/new_covtype_train.data', './NewDatasets/new_covtype_test.data')\n"
   ]
  },
  {
   "cell_type": "code",
   "execution_count": 19,
   "id": "63787b29",
   "metadata": {},
   "outputs": [
    {
     "name": "stdout",
     "output_type": "stream",
     "text": [
      "Started training LibSVM on dataset Covertype ...\n",
      "Training LibSVM on dataset  Covertype  Finished after  0.0020017623901367188\n",
      "Calculating accuracy of LibSVM on dataset  Covertype  Finished after  0.0010004043579101562\n",
      "Accuracy on data train:  100.0  | processing time:  0.0010004043579101562\n",
      "Calculating accuracy of LibSVM on dataset  Covertype  Finished after  0.7012355327606201\n",
      "Accuracy on data test:  82.34028577851463  | processing time:  0.7012355327606201\n"
     ]
    }
   ],
   "source": [
    "libsvm.train(covertype_dataset.x_train, covertype_dataset.y_train, \"Covertype\")\n",
    "\n",
    "print(\"Accuracy on data train: \", libsvm.svm_mean_accuracy(covertype_dataset.x_train, covertype_dataset.y_train, \"Covertype\"), \n",
    "      \" | processing time: \", libsvm.prediction_accuracy_processing_time)\n",
    "\n",
    "print(\"Accuracy on data test: \", libsvm.svm_mean_accuracy(covertype_dataset.x_test, covertype_dataset.y_test, \"Covertype\"), \n",
    "      \" | processing time: \", libsvm.prediction_accuracy_processing_time)"
   ]
  },
  {
   "cell_type": "code",
   "execution_count": 20,
   "id": "08d6e83b",
   "metadata": {},
   "outputs": [
    {
     "name": "stdout",
     "output_type": "stream",
     "text": [
      "Started reading data train of dataset  Covertype ...\n",
      "Finished reading data train of dataset  Covertype ...\n",
      "Started reading data test of dataset  Covertype ...\n",
      "Finished reading data test of dataset  Covertype ...\n"
     ]
    }
   ],
   "source": [
    "covertype_dataset = ReadDataset('Covertype', './NewDatasets/sklearn_new_covtype_train.data', './NewDatasets/sklearn_new_covtype_test.data')\n"
   ]
  },
  {
   "cell_type": "code",
   "execution_count": 21,
   "id": "d71207bb",
   "metadata": {},
   "outputs": [
    {
     "name": "stdout",
     "output_type": "stream",
     "text": [
      "Started training LibSVM on dataset Covertype ...\n",
      "Training LibSVM on dataset  Covertype  Finished after  0.001999378204345703\n",
      "Calculating accuracy of LibSVM on dataset  Covertype  Finished after  0.00200653076171875\n",
      "Accuracy on data train:  100.0  | processing time:  0.00200653076171875\n",
      "Calculating accuracy of LibSVM on dataset  Covertype  Finished after  0.6383273601531982\n",
      "Accuracy on data test:  65.87008598645573  | processing time:  0.6383273601531982\n"
     ]
    }
   ],
   "source": [
    "libsvm.train(covertype_dataset.x_train, covertype_dataset.y_train, \"Covertype\")\n",
    "\n",
    "print(\"Accuracy on data train: \", libsvm.svm_mean_accuracy(covertype_dataset.x_train, covertype_dataset.y_train, \"Covertype\"), \n",
    "      \" | processing time: \", libsvm.prediction_accuracy_processing_time)\n",
    "\n",
    "print(\"Accuracy on data test: \", libsvm.svm_mean_accuracy(covertype_dataset.x_test, covertype_dataset.y_test, \"Covertype\"), \n",
    "      \" | processing time: \", libsvm.prediction_accuracy_processing_time)"
   ]
  },
  {
   "cell_type": "markdown",
   "id": "e0bb99a1",
   "metadata": {},
   "source": [
    "# Testing LibSVM with oroginal datasets splitted by 80%-20% for data train & test"
   ]
  },
  {
   "cell_type": "markdown",
   "id": "d6581366",
   "metadata": {},
   "source": [
    "## Breast-W"
   ]
  },
  {
   "cell_type": "code",
   "execution_count": 16,
   "id": "a67d6f2a",
   "metadata": {},
   "outputs": [
    {
     "name": "stdout",
     "output_type": "stream",
     "text": [
      "Started reading dataset  Breast-W ...\n",
      "Finished reading dataset  Breast-W ...\n"
     ]
    }
   ],
   "source": [
    "breast_dataset = Datasets.Breast_W_Dataset('./Datasets/breast-cancer-wisconsin.data', \"Breast-W\", \n",
    "                                    train_size=0.69, normalization_method='None')\n",
    "\n",
    "breast_dataset.y_train = breast_dataset.y_train.reshape(-1,)\n",
    "breast_dataset.y_test = breast_dataset.y_test.reshape(-1,)"
   ]
  },
  {
   "cell_type": "code",
   "execution_count": 17,
   "id": "d84da90e",
   "metadata": {},
   "outputs": [
    {
     "name": "stdout",
     "output_type": "stream",
     "text": [
      "Started training LibSVM on dataset Breast-w ...\n",
      "Training LibSVM on dataset  Breast-w  Finished after  14.974852323532104\n",
      "\n",
      "\n",
      "Calculating accuracy of LibSVM on dataset  Breast-w  Finished after  0.004967451095581055\n",
      "Accuracy on data train:  61.78343949044586  | processing time:  0.004967451095581055\n",
      "Calculating accuracy of LibSVM on dataset  Breast-w  Finished after  0.005017995834350586\n",
      "Accuracy on data test:  94.33962264150944  | processing time:  0.005017995834350586\n"
     ]
    }
   ],
   "source": [
    "libsvm.train(breast_dataset.x_train, breast_dataset.y_train, \"Breast-w\")\n",
    "print(\"\\n\")\n",
    "print(\"Accuracy on data train: \", libsvm.svm_mean_accuracy(breast_dataset.x_train, breast_dataset.y_train, \"Breast-w\"), \n",
    "      \" | processing time: \", libsvm.prediction_accuracy_processing_time)\n",
    "\n",
    "print(\"Accuracy on data test: \", libsvm.svm_mean_accuracy(breast_dataset.x_test, breast_dataset.y_test, \"Breast-w\"), \n",
    "      \" | processing time: \", libsvm.prediction_accuracy_processing_time)"
   ]
  },
  {
   "cell_type": "markdown",
   "id": "7f7cd7b4",
   "metadata": {},
   "source": [
    "## Messidor"
   ]
  },
  {
   "cell_type": "code",
   "execution_count": 20,
   "id": "79609fab",
   "metadata": {},
   "outputs": [
    {
     "name": "stdout",
     "output_type": "stream",
     "text": [
      "Started reading dataset  Messidor ...\n",
      "Finished reading dataset  Messidor ...\n"
     ]
    }
   ],
   "source": [
    "messidor_dataset = Datasets.Messidor_Dataset('./Datasets/messidor_features.arff', \"Messidor\", \n",
    "                                     train_size=0.8, normalization_method='None', \n",
    "                                     is_class_label_a_feature=False)\n",
    "messidor_dataset.y_train = messidor_dataset.y_train.reshape(-1,)\n",
    "messidor_dataset.y_test = messidor_dataset.y_test.reshape(-1,)"
   ]
  },
  {
   "cell_type": "code",
   "execution_count": 21,
   "id": "93dff2c0",
   "metadata": {},
   "outputs": [
    {
     "name": "stdout",
     "output_type": "stream",
     "text": [
      "Started training LibSVM on dataset Messidor ...\n",
      "Training LibSVM on dataset  Messidor  Finished after  2.5814099311828613\n",
      "Calculating accuracy of LibSVM on dataset  Messidor  Finished after  0.014998912811279297\n",
      "Accuracy on data train:  76.52173913043478  | processing time:  0.014998912811279297\n",
      "Calculating accuracy of LibSVM on dataset  Messidor  Finished after  0.006006717681884766\n",
      "Accuracy on data test:  75.75757575757575  | processing time:  0.006006717681884766\n"
     ]
    }
   ],
   "source": [
    "libsvm.train(messidor_dataset.x_train, messidor_dataset.y_train, \"Messidor\")\n",
    "\n",
    "print(\"Accuracy on data train: \", libsvm.svm_mean_accuracy(messidor_dataset.x_train, messidor_dataset.y_train, \"Messidor\"), \n",
    "      \" | processing time: \", libsvm.prediction_accuracy_processing_time)\n",
    "\n",
    "print(\"Accuracy on data test: \", libsvm.svm_mean_accuracy(messidor_dataset.x_test, messidor_dataset.y_test, \"Messidor\"), \n",
    "      \" | processing time: \", libsvm.prediction_accuracy_processing_time)"
   ]
  },
  {
   "cell_type": "markdown",
   "id": "0cc143f4",
   "metadata": {},
   "source": [
    "## Car"
   ]
  },
  {
   "cell_type": "code",
   "execution_count": 29,
   "id": "7666ab69",
   "metadata": {},
   "outputs": [
    {
     "name": "stdout",
     "output_type": "stream",
     "text": [
      "Started reading dataset  Car ...\n",
      "Finished reading dataset  Car ...\n"
     ]
    }
   ],
   "source": [
    "car_dataset = Datasets.Car_Dataset('./Datasets/car.data', \"Car\", 'Class', \n",
    "                                   train_size=0.59)\n",
    "car_dataset.y_train = car_dataset.y_train.reshape(-1,)\n",
    "car_dataset.y_test = car_dataset.y_test.reshape(-1,)"
   ]
  },
  {
   "cell_type": "code",
   "execution_count": 30,
   "id": "647b1385",
   "metadata": {},
   "outputs": [
    {
     "name": "stdout",
     "output_type": "stream",
     "text": [
      "Started training LibSVM on dataset Car ...\n",
      "Training LibSVM on dataset  Car  Finished after  0.03501558303833008\n",
      "Calculating accuracy of LibSVM on dataset  Car  Finished after  0.017028093338012695\n",
      "Accuracy on data train:  85.37782139352305  | processing time:  0.017028093338012695\n",
      "Calculating accuracy of LibSVM on dataset  Car  Finished after  0.01100015640258789\n",
      "Accuracy on data test:  84.4851904090268  | processing time:  0.01100015640258789\n"
     ]
    }
   ],
   "source": [
    "libsvm.train(car_dataset.x_train, car_dataset.y_train, \"Car\")\n",
    "\n",
    "print(\"Accuracy on data train: \", libsvm.svm_mean_accuracy(car_dataset.x_train, car_dataset.y_train, \"Car\"), \n",
    "      \" | processing time: \", libsvm.prediction_accuracy_processing_time)\n",
    "\n",
    "print(\"Accuracy on data test: \", libsvm.svm_mean_accuracy(car_dataset.x_test, car_dataset.y_test, \"Car\"), \n",
    "      \" | processing time: \", libsvm.prediction_accuracy_processing_time)"
   ]
  },
  {
   "cell_type": "markdown",
   "id": "533372bc",
   "metadata": {},
   "source": [
    "## Spambase"
   ]
  },
  {
   "cell_type": "code",
   "execution_count": 36,
   "id": "523d3aa3",
   "metadata": {},
   "outputs": [
    {
     "name": "stdout",
     "output_type": "stream",
     "text": [
      "Started reading dataset  Spambase ...\n",
      "Finished reading dataset  Spambase ...\n"
     ]
    }
   ],
   "source": [
    "spambase_dataset = Datasets.Spambase_Dataset('./Datasets/spambase.data', \"Spambase\", \n",
    "                                    train_size=0.78, normalization_method='None')\n",
    "spambase_dataset.y_train = spambase_dataset.y_train.reshape(-1,)\n",
    "spambase_dataset.y_test = spambase_dataset.y_test.reshape(-1,)"
   ]
  },
  {
   "cell_type": "code",
   "execution_count": 37,
   "id": "98f69032",
   "metadata": {},
   "outputs": [
    {
     "name": "stdout",
     "output_type": "stream",
     "text": [
      "Started training LibSVM on dataset Spambase ...\n",
      "Training LibSVM on dataset  Spambase  Finished after  222.11860513687134\n",
      "Calculating accuracy of LibSVM on dataset  Spambase  Finished after  0.20221185684204102\n",
      "Accuracy on data train:  92.7536231884058  | processing time:  0.20221185684204102\n",
      "Calculating accuracy of LibSVM on dataset  Spambase  Finished after  0.05599808692932129\n",
      "Accuracy on data test:  93.78084896347482  | processing time:  0.05599808692932129\n"
     ]
    }
   ],
   "source": [
    "libsvm.train(spambase_dataset.x_train, spambase_dataset.y_train, \"Spambase\")\n",
    "\n",
    "print(\"Accuracy on data train: \", libsvm.svm_mean_accuracy(spambase_dataset.x_train, spambase_dataset.y_train, \"Spambase\"), \n",
    "      \" | processing time: \", libsvm.prediction_accuracy_processing_time)\n",
    "\n",
    "print(\"Accuracy on data test: \", libsvm.svm_mean_accuracy(spambase_dataset.x_test, spambase_dataset.y_test, \"Spambase\"), \n",
    "      \" | processing time: \", libsvm.prediction_accuracy_processing_time)"
   ]
  },
  {
   "cell_type": "markdown",
   "id": "277116e1",
   "metadata": {},
   "source": [
    "## Coil2000 dataset"
   ]
  },
  {
   "cell_type": "code",
   "execution_count": 14,
   "id": "1f272889",
   "metadata": {},
   "outputs": [
    {
     "name": "stdout",
     "output_type": "stream",
     "text": [
      "Started reading data train of dataset  Breast-w ...\n",
      "Finished reading data train of dataset  Breast-w ...\n",
      "Started reading data test of dataset  Breast-w ...\n",
      "Finished reading data test of dataset  Breast-w ...\n"
     ]
    }
   ],
   "source": [
    "coil2000_dataset = Datasets.Coil2000_Dataset('./Datasets/coil2000.dat', \"Coil2000\", \n",
    "                            train_size=0.8, normalization_method='None')\n",
    "coil2000_dataset.y_train = coil2000_dataset.y_train.reshape(-1,)\n",
    "coil2000_dataset.y_test = coil2000_dataset.y_test.reshape(-1,)"
   ]
  },
  {
   "cell_type": "code",
   "execution_count": 15,
   "id": "d278f885",
   "metadata": {},
   "outputs": [
    {
     "name": "stdout",
     "output_type": "stream",
     "text": [
      "Started training LibSVM on dataset Coil2000 ...\n",
      "Training LibSVM on dataset  Coil2000  Finished after  0.0030014514923095703\n",
      "Calculating accuracy of LibSVM on dataset  Coil2000  Finished after  0.0009999275207519531\n",
      "Accuracy on data train:  100.0  | processing time:  0.0009999275207519531\n",
      "Calculating accuracy of LibSVM on dataset  Coil2000  Finished after  0.0279998779296875\n",
      "Accuracy on data test:  57.64595886141699  | processing time:  0.0279998779296875\n"
     ]
    }
   ],
   "source": [
    "libsvm.train(coil2000_dataset.x_train, coil2000_dataset.y_train, \"Coil2000\")\n",
    "\n",
    "print(\"Accuracy on data train: \", libsvm.svm_mean_accuracy(coil2000_dataset.x_train, coil2000_dataset.y_train, \"Coil2000\"), \n",
    "      \" | processing time: \", libsvm.prediction_accuracy_processing_time)\n",
    "\n",
    "print(\"Accuracy on data test: \", libsvm.svm_mean_accuracy(coil2000_dataset.x_test, coil2000_dataset.y_test, \"Coil2000\"), \n",
    "      \" | processing time: \", libsvm.prediction_accuracy_processing_time)"
   ]
  },
  {
   "cell_type": "markdown",
   "id": "62de0061",
   "metadata": {},
   "source": [
    "## Bank Marketing"
   ]
  },
  {
   "cell_type": "code",
   "execution_count": 132,
   "id": "3481559e",
   "metadata": {},
   "outputs": [
    {
     "name": "stdout",
     "output_type": "stream",
     "text": [
      "Started reading data train of dataset  Bank ...\n",
      "Finished reading data train of dataset  Bank ...\n",
      "Started reading data test of dataset  Bank ...\n",
      "Finished reading data test of dataset  Bank ...\n"
     ]
    }
   ],
   "source": [
    "bank_dataset = Datasets.Bank_Marketing_Dataset('./Datasets/bank-full.csv', \"Bank Marketing\", 'y', \n",
    "                                      train_size=0.8, normalization_method=\"None\")\n",
    "bank_dataset.y_train = bank_dataset.y_train.reshape(-1,)\n",
    "bank_dataset.y_test = bank_dataset.y_test.reshape(-1,)"
   ]
  },
  {
   "cell_type": "code",
   "execution_count": 133,
   "id": "b2b6ab75",
   "metadata": {},
   "outputs": [
    {
     "name": "stdout",
     "output_type": "stream",
     "text": [
      "Started training LibSVM on dataset Bank ...\n",
      "Training LibSVM on dataset  Bank  Finished after  1.7501986026763916\n",
      "Calculating accuracy of LibSVM on dataset  Bank  Finished after  0.0029973983764648438\n",
      "Accuracy on data train:  100.0  | processing time:  0.0029973983764648438\n",
      "Calculating accuracy of LibSVM on dataset  Bank  Finished after  0.07204341888427734\n",
      "Accuracy on data test:  74.1140329319243  | processing time:  0.07204341888427734\n"
     ]
    }
   ],
   "source": [
    "libsvm.train(bank_dataset.x_train, bank_dataset.y_train, \"Bank\")\n",
    "\n",
    "print(\"Accuracy on data train: \", libsvm.svm_mean_accuracy(bank_dataset.x_train, bank_dataset.y_train, \"Bank\"), \n",
    "      \" | processing time: \", libsvm.prediction_accuracy_processing_time)\n",
    "\n",
    "print(\"Accuracy on data test: \", libsvm.svm_mean_accuracy(bank_dataset.x_test, bank_dataset.y_test, \"Bank\"), \n",
    "      \" | processing time: \", libsvm.prediction_accuracy_processing_time)"
   ]
  },
  {
   "cell_type": "markdown",
   "id": "831d3419",
   "metadata": {},
   "source": [
    "## Skin Segmentation"
   ]
  },
  {
   "cell_type": "code",
   "execution_count": 62,
   "id": "55a9cfca",
   "metadata": {},
   "outputs": [
    {
     "name": "stdout",
     "output_type": "stream",
     "text": [
      "Started reading data train of dataset  Skin ...\n",
      "Finished reading data train of dataset  Skin ...\n",
      "Started reading data test of dataset  Skin ...\n",
      "Finished reading data test of dataset  Skin ...\n"
     ]
    }
   ],
   "source": [
    "skin_dataset = Datasets.Skin_NonSkin_Dataset('./Datasets/Skin_NonSkin.txt', \"Skin Segmentation\",\n",
    "                                             train_size=0.8, normalization_method=\"None\")\n",
    "skin_dataset.y_train = skin_dataset.y_train.reshape(-1,)\n",
    "skin_dataset.y_test = skin_dataset.y_test.reshape(-1,)"
   ]
  },
  {
   "cell_type": "code",
   "execution_count": 64,
   "id": "f3123026",
   "metadata": {},
   "outputs": [
    {
     "name": "stdout",
     "output_type": "stream",
     "text": [
      "Started training LibSVM on dataset Skin ...\n",
      "Training LibSVM on dataset  Skin  Finished after  0.002995729446411133\n",
      "Calculating accuracy of LibSVM on dataset  Skin  Finished after  0.0014698505401611328\n",
      "Accuracy on data train:  100.0  | processing time:  0.0014698505401611328\n",
      "Calculating accuracy of LibSVM on dataset  Skin  Finished after  0.36596083641052246\n",
      "Accuracy on data test:  94.38381611447934  | processing time:  0.36596083641052246\n"
     ]
    }
   ],
   "source": [
    "libsvm.train(skin_dataset.x_train, skin_dataset.y_train, \"Skin\")\n",
    "\n",
    "print(\"Accuracy on data train: \", libsvm.svm_mean_accuracy(skin_dataset.x_train, skin_dataset.y_train, \"Skin\"), \n",
    "      \" | processing time: \", libsvm.prediction_accuracy_processing_time)\n",
    "\n",
    "print(\"Accuracy on data test: \", libsvm.svm_mean_accuracy(skin_dataset.x_test, skin_dataset.y_test, \"Skin\"), \n",
    "      \" | processing time: \", libsvm.prediction_accuracy_processing_time)"
   ]
  },
  {
   "cell_type": "markdown",
   "id": "eaa8a6d1",
   "metadata": {},
   "source": [
    "## Covertype"
   ]
  },
  {
   "cell_type": "code",
   "execution_count": 6,
   "id": "88184433",
   "metadata": {},
   "outputs": [
    {
     "name": "stdout",
     "output_type": "stream",
     "text": [
      "Started reading dataset  Covertype ...\n",
      "Finished reading dataset  Covertype ...\n"
     ]
    }
   ],
   "source": [
    "from sklearn.utils import shuffle\n",
    "from sklearn.model_selection import train_test_split\n",
    "\n",
    "class My_Covertype_Dataset:\n",
    "    def __init__(self, dataset_path, dataset_name, output_coloumn_name='44', \n",
    "                 train_size=0.1, normalization_method='zero_mean_unit_var'):\n",
    "        \"\"\"\n",
    "        self.x_train\n",
    "        self.x_test\n",
    "        self.y_train\n",
    "        self.y_test\n",
    "        \"\"\"\n",
    "        print(\"Started reading dataset \", dataset_name, \"...\")\n",
    "        \n",
    "        self.dataset_path = dataset_path\n",
    "        self.train_size = train_size\n",
    "        self.normalization_method = normalization_method\n",
    "\n",
    "        self.data_ = []\n",
    "        with open(self.dataset_path) as data_file_pointer:\n",
    "            for line in data_file_pointer:\n",
    "                tmp = line.split(\",\")\n",
    "                instance = []\n",
    "                for f in tmp:\n",
    "                    instance.append(float(f))\n",
    "                self.data_.append(instance)\n",
    "        \n",
    "        self.data_ = np.array(self.data_)       \n",
    "        np.random.shuffle(self.data_)\n",
    "\n",
    "        # seperate class labels from data\n",
    "        data_y = self.data_[:, -1]          # for last column\n",
    "        # in the article, it is said to only consider Aspen vs other classes\n",
    "        # due to dataset description, Aspen class is the class label '5'.\n",
    "        data_y[data_y==1] = -1\n",
    "        data_y[data_y==2] = -1\n",
    "        data_y[data_y==3] = -1\n",
    "        data_y[data_y==4] = -1\n",
    "        data_y[data_y==6] = -1\n",
    "        data_y[data_y==7] = -1\n",
    "        data_y[data_y==5] = +1\n",
    "        data_x = self.data_[:, :-1]     # for all but last column\n",
    "        \n",
    "        data_y = data_y.reshape(-1, 1)\n",
    "        \n",
    "        # split data test & train\n",
    "        self.x_train, self.x_test, self.y_train, self.y_test = train_test_split(data_x, data_y, test_size=1-self.train_size, random_state=42)\n",
    "        \n",
    "        self.y_train = self.y_train.reshape(-1, 1)\n",
    "        self.y_test = self.y_test.reshape(-1, 1)\n",
    "        \n",
    "        # remove self.dataframe to avoid storing data too much\n",
    "#         del self.data_\n",
    "        \n",
    "        # Normalize data\n",
    "        self.normalize(self.normalization_method)\n",
    "\n",
    "        print(\"Finished reading dataset \", dataset_name, \"...\")\n",
    "        \n",
    "        \n",
    "    \"\"\"\n",
    "    Normalizing data improves the convergence of learning model and causes that smaller features also be able to affect the model parameters.\n",
    "    \"\"\"\n",
    "    def normalize(self, normalization_method):\n",
    "        if normalization_method == 'none':\n",
    "            print(\"No normalization.\")\n",
    "            return\n",
    "        \n",
    "        if normalization_method == 'zero_mean_unit_var':\n",
    "            print(\"zero-mean & unit_variance normalization.\")\n",
    "            self.x_train_without_x0 = self.zero_mean_unit_variance(self.x_train)\n",
    "            self.x_test_without_x0 = self.zero_mean_unit_variance(self.x_test)\n",
    "            \n",
    "            \n",
    "        if normalization_method == 'scale_0_1':\n",
    "            print(\"scaling to [0, 1] normalization.\")\n",
    "            self.x_train_without_x0 = self.scaling_between_0_1(self.x_train)\n",
    "            self.x_test_without_x0 = self.scaling_between_0_1(self.x_test)\n",
    "     \n",
    "    \n",
    "    def scaling_between_0_1(self, numpy_array):\n",
    "        '''\n",
    "        Scaling\n",
    "        '''\n",
    "        normed_numpy_array = (numpy_array - numpy_array.min(axis=0)) / (numpy_array.max(axis=0) - numpy_array.min(axis=0))\n",
    "        return normed_numpy_array\n",
    "\n",
    "\n",
    "    def zero_mean_unit_variance(self, numpy_array):\n",
    "        '''\n",
    "        Standardization\n",
    "        '''\n",
    "        normed_numpy_array = (numpy_array - numpy_array.mean(axis=0)) / numpy_array.std(axis=0)\n",
    "        return normed_numpy_array\n",
    "\n",
    "covertype_dataset = My_Covertype_Dataset('./Datasets/covtype.data', \"Covertype\", \n",
    "                                               train_size=0.8, normalization_method=\"None\")\n",
    "covertype_dataset.y_train = covertype_dataset.y_train.reshape(-1,)\n",
    "covertype_dataset.y_test = covertype_dataset.y_test.reshape(-1,)"
   ]
  },
  {
   "cell_type": "code",
   "execution_count": null,
   "id": "d888f580",
   "metadata": {},
   "outputs": [
    {
     "name": "stdout",
     "output_type": "stream",
     "text": [
      "Started training LibSVM on dataset Covertype ...\n"
     ]
    }
   ],
   "source": [
    "libsvm.train(covertype_dataset.x_train, covertype_dataset.y_train, \"Covertype\")\n",
    "\n",
    "print(\"Accuracy on data train: \", libsvm.svm_mean_accuracy(covertype_dataset.x_train, covertype_dataset.y_train, \"Covertype\"), \n",
    "      \" | processing time: \", libsvm.prediction_accuracy_processing_time)\n",
    "\n",
    "print(\"Accuracy on data test: \", libsvm.svm_mean_accuracy(covertype_dataset.x_test, covertype_dataset.y_test, \"Covertype\"), \n",
    "      \" | processing time: \", libsvm.prediction_accuracy_processing_time)"
   ]
  },
  {
   "cell_type": "code",
   "execution_count": null,
   "id": "28904bf0",
   "metadata": {},
   "outputs": [],
   "source": []
  }
 ],
 "metadata": {
  "kernelspec": {
   "display_name": "Python 3",
   "language": "python",
   "name": "python3"
  },
  "language_info": {
   "codemirror_mode": {
    "name": "ipython",
    "version": 3
   },
   "file_extension": ".py",
   "mimetype": "text/x-python",
   "name": "python",
   "nbconvert_exporter": "python",
   "pygments_lexer": "ipython3",
   "version": "3.8.8"
  }
 },
 "nbformat": 4,
 "nbformat_minor": 5
}
